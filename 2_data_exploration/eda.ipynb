{
 "cells": [
  {
   "cell_type": "markdown",
   "id": "309e0788",
   "metadata": {},
   "source": [
    "### Load Data"
   ]
  },
  {
   "cell_type": "code",
   "execution_count": 2,
   "id": "b489cb9e",
   "metadata": {},
   "outputs": [
    {
     "name": "stdout",
     "output_type": "stream",
     "text": [
      "Setup Complete\n"
     ]
    }
   ],
   "source": [
    "import numpy as np\n",
    "import pandas as pd\n",
    "pd.plotting.register_matplotlib_converters()\n",
    "import matplotlib.pyplot as plt\n",
    "%matplotlib inline\n",
    "import seaborn as sns\n",
    "sns.set_theme(style='whitegrid')\n",
    "sns.set(font_scale = 1.25)\n",
    "print(\"Setup Complete\")\n"
   ]
  },
  {
   "cell_type": "markdown",
   "id": "d07912a0",
   "metadata": {},
   "source": [
    "# Context"
   ]
  },
  {
   "cell_type": "markdown",
   "id": "4fb296b6",
   "metadata": {},
   "source": [
    "### Load the data"
   ]
  },
  {
   "cell_type": "code",
   "execution_count": 3,
   "id": "6b981d68",
   "metadata": {
    "scrolled": true
   },
   "outputs": [
    {
     "data": {
      "text/html": [
       "<div>\n",
       "<style scoped>\n",
       "    .dataframe tbody tr th:only-of-type {\n",
       "        vertical-align: middle;\n",
       "    }\n",
       "\n",
       "    .dataframe tbody tr th {\n",
       "        vertical-align: top;\n",
       "    }\n",
       "\n",
       "    .dataframe thead th {\n",
       "        text-align: right;\n",
       "    }\n",
       "</style>\n",
       "<table border=\"1\" class=\"dataframe\">\n",
       "  <thead>\n",
       "    <tr style=\"text-align: right;\">\n",
       "      <th></th>\n",
       "      <th>Survived</th>\n",
       "      <th>Pclass</th>\n",
       "      <th>Name</th>\n",
       "      <th>Sex</th>\n",
       "      <th>Age</th>\n",
       "      <th>SibSp</th>\n",
       "      <th>Parch</th>\n",
       "      <th>Ticket</th>\n",
       "      <th>Fare</th>\n",
       "      <th>Cabin</th>\n",
       "      <th>Embarked</th>\n",
       "    </tr>\n",
       "    <tr>\n",
       "      <th>PassengerId</th>\n",
       "      <th></th>\n",
       "      <th></th>\n",
       "      <th></th>\n",
       "      <th></th>\n",
       "      <th></th>\n",
       "      <th></th>\n",
       "      <th></th>\n",
       "      <th></th>\n",
       "      <th></th>\n",
       "      <th></th>\n",
       "      <th></th>\n",
       "    </tr>\n",
       "  </thead>\n",
       "  <tbody>\n",
       "    <tr>\n",
       "      <th>0</th>\n",
       "      <td>1</td>\n",
       "      <td>1</td>\n",
       "      <td>Oconnor, Frankie</td>\n",
       "      <td>male</td>\n",
       "      <td>NaN</td>\n",
       "      <td>2</td>\n",
       "      <td>0</td>\n",
       "      <td>209245</td>\n",
       "      <td>27.14</td>\n",
       "      <td>C12239</td>\n",
       "      <td>S</td>\n",
       "    </tr>\n",
       "    <tr>\n",
       "      <th>1</th>\n",
       "      <td>0</td>\n",
       "      <td>3</td>\n",
       "      <td>Bryan, Drew</td>\n",
       "      <td>male</td>\n",
       "      <td>NaN</td>\n",
       "      <td>0</td>\n",
       "      <td>0</td>\n",
       "      <td>27323</td>\n",
       "      <td>13.35</td>\n",
       "      <td>NaN</td>\n",
       "      <td>S</td>\n",
       "    </tr>\n",
       "    <tr>\n",
       "      <th>2</th>\n",
       "      <td>0</td>\n",
       "      <td>3</td>\n",
       "      <td>Owens, Kenneth</td>\n",
       "      <td>male</td>\n",
       "      <td>0.33</td>\n",
       "      <td>1</td>\n",
       "      <td>2</td>\n",
       "      <td>CA 457703</td>\n",
       "      <td>71.29</td>\n",
       "      <td>NaN</td>\n",
       "      <td>S</td>\n",
       "    </tr>\n",
       "    <tr>\n",
       "      <th>3</th>\n",
       "      <td>0</td>\n",
       "      <td>3</td>\n",
       "      <td>Kramer, James</td>\n",
       "      <td>male</td>\n",
       "      <td>19.00</td>\n",
       "      <td>0</td>\n",
       "      <td>0</td>\n",
       "      <td>A. 10866</td>\n",
       "      <td>13.04</td>\n",
       "      <td>NaN</td>\n",
       "      <td>S</td>\n",
       "    </tr>\n",
       "    <tr>\n",
       "      <th>4</th>\n",
       "      <td>1</td>\n",
       "      <td>3</td>\n",
       "      <td>Bond, Michael</td>\n",
       "      <td>male</td>\n",
       "      <td>25.00</td>\n",
       "      <td>0</td>\n",
       "      <td>0</td>\n",
       "      <td>427635</td>\n",
       "      <td>7.76</td>\n",
       "      <td>NaN</td>\n",
       "      <td>S</td>\n",
       "    </tr>\n",
       "    <tr>\n",
       "      <th>...</th>\n",
       "      <td>...</td>\n",
       "      <td>...</td>\n",
       "      <td>...</td>\n",
       "      <td>...</td>\n",
       "      <td>...</td>\n",
       "      <td>...</td>\n",
       "      <td>...</td>\n",
       "      <td>...</td>\n",
       "      <td>...</td>\n",
       "      <td>...</td>\n",
       "      <td>...</td>\n",
       "    </tr>\n",
       "    <tr>\n",
       "      <th>99995</th>\n",
       "      <td>1</td>\n",
       "      <td>2</td>\n",
       "      <td>Bell, Adele</td>\n",
       "      <td>female</td>\n",
       "      <td>62.00</td>\n",
       "      <td>0</td>\n",
       "      <td>0</td>\n",
       "      <td>PC 15008</td>\n",
       "      <td>14.86</td>\n",
       "      <td>D17243</td>\n",
       "      <td>C</td>\n",
       "    </tr>\n",
       "    <tr>\n",
       "      <th>99996</th>\n",
       "      <td>0</td>\n",
       "      <td>2</td>\n",
       "      <td>Brown, Herman</td>\n",
       "      <td>male</td>\n",
       "      <td>66.00</td>\n",
       "      <td>0</td>\n",
       "      <td>0</td>\n",
       "      <td>13273</td>\n",
       "      <td>11.15</td>\n",
       "      <td>NaN</td>\n",
       "      <td>S</td>\n",
       "    </tr>\n",
       "    <tr>\n",
       "      <th>99997</th>\n",
       "      <td>0</td>\n",
       "      <td>3</td>\n",
       "      <td>Childress, Charles</td>\n",
       "      <td>male</td>\n",
       "      <td>37.00</td>\n",
       "      <td>0</td>\n",
       "      <td>0</td>\n",
       "      <td>NaN</td>\n",
       "      <td>9.95</td>\n",
       "      <td>NaN</td>\n",
       "      <td>S</td>\n",
       "    </tr>\n",
       "    <tr>\n",
       "      <th>99998</th>\n",
       "      <td>0</td>\n",
       "      <td>3</td>\n",
       "      <td>Caughlin, Thomas</td>\n",
       "      <td>male</td>\n",
       "      <td>51.00</td>\n",
       "      <td>0</td>\n",
       "      <td>1</td>\n",
       "      <td>458654</td>\n",
       "      <td>30.92</td>\n",
       "      <td>NaN</td>\n",
       "      <td>S</td>\n",
       "    </tr>\n",
       "    <tr>\n",
       "      <th>99999</th>\n",
       "      <td>0</td>\n",
       "      <td>3</td>\n",
       "      <td>Enciso, Tyler</td>\n",
       "      <td>male</td>\n",
       "      <td>55.00</td>\n",
       "      <td>0</td>\n",
       "      <td>0</td>\n",
       "      <td>458074</td>\n",
       "      <td>13.96</td>\n",
       "      <td>NaN</td>\n",
       "      <td>S</td>\n",
       "    </tr>\n",
       "  </tbody>\n",
       "</table>\n",
       "<p>100000 rows × 11 columns</p>\n",
       "</div>"
      ],
      "text/plain": [
       "             Survived  Pclass                Name     Sex    Age  SibSp  \\\n",
       "PassengerId                                                               \n",
       "0                   1       1    Oconnor, Frankie    male    NaN      2   \n",
       "1                   0       3         Bryan, Drew    male    NaN      0   \n",
       "2                   0       3      Owens, Kenneth    male   0.33      1   \n",
       "3                   0       3       Kramer, James    male  19.00      0   \n",
       "4                   1       3       Bond, Michael    male  25.00      0   \n",
       "...               ...     ...                 ...     ...    ...    ...   \n",
       "99995               1       2         Bell, Adele  female  62.00      0   \n",
       "99996               0       2       Brown, Herman    male  66.00      0   \n",
       "99997               0       3  Childress, Charles    male  37.00      0   \n",
       "99998               0       3    Caughlin, Thomas    male  51.00      0   \n",
       "99999               0       3       Enciso, Tyler    male  55.00      0   \n",
       "\n",
       "             Parch     Ticket   Fare   Cabin Embarked  \n",
       "PassengerId                                            \n",
       "0                0     209245  27.14  C12239        S  \n",
       "1                0      27323  13.35     NaN        S  \n",
       "2                2  CA 457703  71.29     NaN        S  \n",
       "3                0   A. 10866  13.04     NaN        S  \n",
       "4                0     427635   7.76     NaN        S  \n",
       "...            ...        ...    ...     ...      ...  \n",
       "99995            0   PC 15008  14.86  D17243        C  \n",
       "99996            0      13273  11.15     NaN        S  \n",
       "99997            0        NaN   9.95     NaN        S  \n",
       "99998            1     458654  30.92     NaN        S  \n",
       "99999            0     458074  13.96     NaN        S  \n",
       "\n",
       "[100000 rows x 11 columns]"
      ]
     },
     "execution_count": 3,
     "metadata": {},
     "output_type": "execute_result"
    }
   ],
   "source": [
    "passenger_data = pd.read_csv('./train.csv', index_col='PassengerId')\n",
    "# passenger_data.head()\n",
    "passenger_data"
   ]
  },
  {
   "cell_type": "markdown",
   "id": "9b75f130",
   "metadata": {},
   "source": [
    "### Fields definition\n",
    "- `Survived` - Survival (0 = No; 1 = Yes)\n",
    "- `Pclass` - Passenger airline class (1 = first, 2 = bussiness, 3 = economy).\n",
    "- `Name` - Passenger name.\n",
    "- `Sex` - Sex (male, female).\n",
    "- `Age` - Age in years.\n",
    "- `SibSp` - Number of Siblings/Spouses Aboard\n",
    "- `Parch` - Number of Parents/Children Aboard\n",
    "- `Ticket` - Ticket number.\n",
    "- `Fare` - Ticket fare.\n",
    "- `Cabin` - Tabin (optional).\n",
    "- `Embarked` - Port of Embarkation (C = Cherbourg; Q = Queenstown; S = Southampton)"
   ]
  },
  {
   "cell_type": "code",
   "execution_count": 4,
   "id": "5e9b7c5d",
   "metadata": {
    "scrolled": true
   },
   "outputs": [
    {
     "data": {
      "text/html": [
       "<div>\n",
       "<style scoped>\n",
       "    .dataframe tbody tr th:only-of-type {\n",
       "        vertical-align: middle;\n",
       "    }\n",
       "\n",
       "    .dataframe tbody tr th {\n",
       "        vertical-align: top;\n",
       "    }\n",
       "\n",
       "    .dataframe thead th {\n",
       "        text-align: right;\n",
       "    }\n",
       "</style>\n",
       "<table border=\"1\" class=\"dataframe\">\n",
       "  <thead>\n",
       "    <tr style=\"text-align: right;\">\n",
       "      <th></th>\n",
       "      <th>Survived</th>\n",
       "      <th>Pclass</th>\n",
       "      <th>Age</th>\n",
       "      <th>SibSp</th>\n",
       "      <th>Parch</th>\n",
       "      <th>Fare</th>\n",
       "    </tr>\n",
       "  </thead>\n",
       "  <tbody>\n",
       "    <tr>\n",
       "      <th>count</th>\n",
       "      <td>100000.000000</td>\n",
       "      <td>100000.000000</td>\n",
       "      <td>96708.000000</td>\n",
       "      <td>100000.000000</td>\n",
       "      <td>100000.000000</td>\n",
       "      <td>99866.00000</td>\n",
       "    </tr>\n",
       "    <tr>\n",
       "      <th>mean</th>\n",
       "      <td>0.427740</td>\n",
       "      <td>2.106910</td>\n",
       "      <td>38.355472</td>\n",
       "      <td>0.397690</td>\n",
       "      <td>0.454560</td>\n",
       "      <td>43.92933</td>\n",
       "    </tr>\n",
       "    <tr>\n",
       "      <th>std</th>\n",
       "      <td>0.494753</td>\n",
       "      <td>0.837727</td>\n",
       "      <td>18.313556</td>\n",
       "      <td>0.862566</td>\n",
       "      <td>0.950076</td>\n",
       "      <td>69.58882</td>\n",
       "    </tr>\n",
       "    <tr>\n",
       "      <th>min</th>\n",
       "      <td>0.000000</td>\n",
       "      <td>1.000000</td>\n",
       "      <td>0.080000</td>\n",
       "      <td>0.000000</td>\n",
       "      <td>0.000000</td>\n",
       "      <td>0.68000</td>\n",
       "    </tr>\n",
       "    <tr>\n",
       "      <th>25%</th>\n",
       "      <td>0.000000</td>\n",
       "      <td>1.000000</td>\n",
       "      <td>25.000000</td>\n",
       "      <td>0.000000</td>\n",
       "      <td>0.000000</td>\n",
       "      <td>10.04000</td>\n",
       "    </tr>\n",
       "    <tr>\n",
       "      <th>50%</th>\n",
       "      <td>0.000000</td>\n",
       "      <td>2.000000</td>\n",
       "      <td>39.000000</td>\n",
       "      <td>0.000000</td>\n",
       "      <td>0.000000</td>\n",
       "      <td>24.46000</td>\n",
       "    </tr>\n",
       "    <tr>\n",
       "      <th>75%</th>\n",
       "      <td>1.000000</td>\n",
       "      <td>3.000000</td>\n",
       "      <td>53.000000</td>\n",
       "      <td>1.000000</td>\n",
       "      <td>1.000000</td>\n",
       "      <td>33.50000</td>\n",
       "    </tr>\n",
       "    <tr>\n",
       "      <th>max</th>\n",
       "      <td>1.000000</td>\n",
       "      <td>3.000000</td>\n",
       "      <td>87.000000</td>\n",
       "      <td>8.000000</td>\n",
       "      <td>9.000000</td>\n",
       "      <td>744.66000</td>\n",
       "    </tr>\n",
       "  </tbody>\n",
       "</table>\n",
       "</div>"
      ],
      "text/plain": [
       "            Survived         Pclass           Age          SibSp  \\\n",
       "count  100000.000000  100000.000000  96708.000000  100000.000000   \n",
       "mean        0.427740       2.106910     38.355472       0.397690   \n",
       "std         0.494753       0.837727     18.313556       0.862566   \n",
       "min         0.000000       1.000000      0.080000       0.000000   \n",
       "25%         0.000000       1.000000     25.000000       0.000000   \n",
       "50%         0.000000       2.000000     39.000000       0.000000   \n",
       "75%         1.000000       3.000000     53.000000       1.000000   \n",
       "max         1.000000       3.000000     87.000000       8.000000   \n",
       "\n",
       "               Parch         Fare  \n",
       "count  100000.000000  99866.00000  \n",
       "mean        0.454560     43.92933  \n",
       "std         0.950076     69.58882  \n",
       "min         0.000000      0.68000  \n",
       "25%         0.000000     10.04000  \n",
       "50%         0.000000     24.46000  \n",
       "75%         1.000000     33.50000  \n",
       "max         9.000000    744.66000  "
      ]
     },
     "execution_count": 4,
     "metadata": {},
     "output_type": "execute_result"
    }
   ],
   "source": [
    "passenger_data.describe()"
   ]
  },
  {
   "cell_type": "code",
   "execution_count": null,
   "id": "c7689f08",
   "metadata": {},
   "outputs": [],
   "source": []
  },
  {
   "cell_type": "markdown",
   "id": "9b4320c6",
   "metadata": {},
   "source": [
    "# Data quality assessment"
   ]
  },
  {
   "cell_type": "markdown",
   "id": "7391db42",
   "metadata": {},
   "source": [
    "### General Data Description"
   ]
  },
  {
   "cell_type": "code",
   "execution_count": 5,
   "id": "e443ca82",
   "metadata": {},
   "outputs": [
    {
     "name": "stdout",
     "output_type": "stream",
     "text": [
      "<class 'pandas.core.frame.DataFrame'>\n",
      "Int64Index: 100000 entries, 0 to 99999\n",
      "Data columns (total 11 columns):\n",
      " #   Column    Non-Null Count   Dtype  \n",
      "---  ------    --------------   -----  \n",
      " 0   Survived  100000 non-null  int64  \n",
      " 1   Pclass    100000 non-null  int64  \n",
      " 2   Name      100000 non-null  object \n",
      " 3   Sex       100000 non-null  object \n",
      " 4   Age       96708 non-null   float64\n",
      " 5   SibSp     100000 non-null  int64  \n",
      " 6   Parch     100000 non-null  int64  \n",
      " 7   Ticket    95377 non-null   object \n",
      " 8   Fare      99866 non-null   float64\n",
      " 9   Cabin     32134 non-null   object \n",
      " 10  Embarked  99750 non-null   object \n",
      "dtypes: float64(2), int64(4), object(5)\n",
      "memory usage: 9.2+ MB\n"
     ]
    }
   ],
   "source": [
    "passenger_data.info()"
   ]
  },
  {
   "cell_type": "markdown",
   "id": "e8e6a744",
   "metadata": {},
   "source": [
    "### Fields value describution"
   ]
  },
  {
   "cell_type": "code",
   "execution_count": 6,
   "id": "25c56b26",
   "metadata": {},
   "outputs": [
    {
     "data": {
      "text/plain": [
       "Text(0.5, 1.0, 'Pclass (100.0% not-null)')"
      ]
     },
     "execution_count": 6,
     "metadata": {},
     "output_type": "execute_result"
    },
    {
     "data": {
      "image/png": "[encoded data removed]",
      "text/plain": [
       "<Figure size 1152x288 with 2 Axes>"
      ]
     },
     "metadata": {},
     "output_type": "display_data"
    }
   ],
   "source": [
    "survived_not_null_percent = passenger_data.loc[pd.notna(passenger_data.Survived)].Survived.shape[0] / passenger_data.Survived.shape[0] * 100\n",
    "pclass_not_null_percent = passenger_data.loc[pd.notna(passenger_data.Pclass)].Pclass.shape[0] / passenger_data.Pclass.shape[0] * 100\n",
    "\n",
    "fig, axes = plt.subplots(ncols=2, nrows=1, figsize=(16,4))\n",
    "\n",
    "sns.histplot(passenger_data, x=\"Survived\", discrete=True, ax = axes[0] )\n",
    "axes[0].set_title(f\"Survived ({survived_not_null_percent}% not-null)\")\n",
    "\n",
    "sns.histplot(passenger_data, x=\"Pclass\", discrete=True, ax = axes[1])\n",
    "axes[1].set_title(f\"Pclass ({pclass_not_null_percent}% not-null)\")\n"
   ]
  },
  {
   "cell_type": "code",
   "execution_count": 10,
   "id": "47001f86",
   "metadata": {},
   "outputs": [
    {
     "data": {
      "text/plain": [
       "Text(0.5, 1.0, 'Age (96.708% not-null)')"
      ]
     },
     "execution_count": 10,
     "metadata": {},
     "output_type": "execute_result"
    },
    {
     "data": {
      "image/png": "[encoded data removed]",
      "text/plain": [
       "<Figure size 1152x288 with 2 Axes>"
      ]
     },
     "metadata": {},
     "output_type": "display_data"
    }
   ],
   "source": [
    "sex_not_null_percent = passenger_data.loc[pd.notna(passenger_data.Sex)].Sex.shape[0] / passenger_data.Sex.shape[0] * 100\n",
    "age_not_null_percent = passenger_data.loc[pd.notna(passenger_data.Age)].Age.shape[0] / passenger_data.Age.shape[0] * 100\n",
    "\n",
    "fig, axes = plt.subplots(ncols=2, nrows=1, figsize=(16,4))\n",
    "\n",
    "sns.histplot(passenger_data, x=\"Sex\", discrete=True, ax = axes[0])\n",
    "axes[1].set_title(f\"Sex ({sex_not_null_percent}% not-null)\")\n",
    "\n",
    "# sns.histplot(passenger_data, x=\"Age\", discrete=True, ax = axes[1] )\n",
    "sns.histplot(passenger_data, x=\"Age\", discrete=True, ax = axes[1], kde=True )\n",
    "axes[0].set_title(f\"Age ({age_not_null_percent}% not-null)\")\n"
   ]
  },
  {
   "cell_type": "code",
   "execution_count": 15,
   "id": "a8814e6b",
   "metadata": {},
   "outputs": [
    {
     "data": {
      "text/plain": [
       "Text(0.5, 1.0, 'AgParche (100.0% not-null)')"
      ]
     },
     "execution_count": 15,
     "metadata": {},
     "output_type": "execute_result"
    },
    {
     "data": {
      "image/png": "[encoded data removed]",
      "text/plain": [
       "<Figure size 1152x288 with 2 Axes>"
      ]
     },
     "metadata": {},
     "output_type": "display_data"
    }
   ],
   "source": [
    "sibSp_not_null_percent = passenger_data.loc[pd.notna(passenger_data.SibSp)].SibSp.shape[0] / passenger_data.SibSp.shape[0] * 100\n",
    "parch_not_null_percent = passenger_data.loc[pd.notna(passenger_data.Parch)].Parch.shape[0] / passenger_data.Parch.shape[0] * 100\n",
    "\n",
    "fig, axes = plt.subplots(ncols=2, nrows=1, figsize=(16,4))\n",
    "\n",
    "sns.histplot(passenger_data, x=\"SibSp\", discrete=True, ax = axes[0])\n",
    "axes[1].set_title(f\"SibSp ({sibSp_not_null_percent}% not-null)\")\n",
    "\n",
    "sns.histplot(passenger_data, x=\"Parch\", discrete=True, ax = axes[1])\n",
    "axes[0].set_title(f\"Parch ({parch_not_null_percent}% not-null)\")"
   ]
  },
  {
   "cell_type": "code",
   "execution_count": 17,
   "id": "7dadff9d",
   "metadata": {},
   "outputs": [
    {
     "data": {
      "text/plain": [
       "Text(0.5, 1.0, 'Embarked (99.75% not-null)')"
      ]
     },
     "execution_count": 17,
     "metadata": {},
     "output_type": "execute_result"
    },
    {
     "data": {
      "image/png": "[encoded data removed]",
      "text/plain": [
       "<Figure size 1152x288 with 2 Axes>"
      ]
     },
     "metadata": {},
     "output_type": "display_data"
    }
   ],
   "source": [
    "fare_not_null_percent = passenger_data.loc[pd.notna(passenger_data.Fare)].Fare.shape[0] / passenger_data.Fare.shape[0] * 100\n",
    "embarked_not_null_percent = passenger_data.loc[pd.notna(passenger_data.Embarked)].Embarked.shape[0] / passenger_data.Embarked.shape[0] * 100\n",
    "\n",
    "fig, axes = plt.subplots(ncols=2, nrows=1, figsize=(16,4))\n",
    "\n",
    "sns.histplot(passenger_data, x=\"Fare\", discrete=True, ax = axes[0])\n",
    "axes[1].set_title(f\"Fare ({fare_not_null_percent}% not-null)\")\n",
    "\n",
    "sns.histplot(passenger_data, x=\"Embarked\", discrete=True, ax = axes[1])\n",
    "axes[0].set_title(f\"Embarked ({embarked_not_null_percent}% not-null)\")"
   ]
  },
  {
   "cell_type": "markdown",
   "id": "8c25c548",
   "metadata": {},
   "source": [
    "### Name statistics"
   ]
  },
  {
   "cell_type": "code",
   "execution_count": 42,
   "id": "8623b173",
   "metadata": {},
   "outputs": [
    {
     "data": {
      "text/plain": [
       "count            100000\n",
       "unique            92144\n",
       "top       Johnson, John\n",
       "freq                 31\n",
       "Name: Name, dtype: object"
      ]
     },
     "execution_count": 42,
     "metadata": {},
     "output_type": "execute_result"
    }
   ],
   "source": [
    "passenger_data['LastName'] = passenger_data.Name.map(lambda p: p.split(',')[0])\n",
    "passenger_data['FirstName'] = passenger_data.Name.map(lambda p: p.split(',')[1])\n",
    "passenger_data.Name.describe()"
   ]
  },
  {
   "cell_type": "markdown",
   "id": "affbea8f",
   "metadata": {},
   "source": [
    "### First Name statistics"
   ]
  },
  {
   "cell_type": "code",
   "execution_count": 43,
   "id": "a1168960",
   "metadata": {},
   "outputs": [
    {
     "data": {
      "text/plain": [
       "count     100000\n",
       "unique      3953\n",
       "top        James\n",
       "freq        2112\n",
       "Name: FirstName, dtype: object"
      ]
     },
     "execution_count": 43,
     "metadata": {},
     "output_type": "execute_result"
    }
   ],
   "source": [
    "passenger_data.FirstName.describe()"
   ]
  },
  {
   "cell_type": "markdown",
   "id": "b0c50435",
   "metadata": {},
   "source": [
    "### Last Name statistics"
   ]
  },
  {
   "cell_type": "code",
   "execution_count": 44,
   "id": "4240179a",
   "metadata": {},
   "outputs": [
    {
     "data": {
      "text/plain": [
       "count     100000\n",
       "unique     21558\n",
       "top        Smith\n",
       "freq        1162\n",
       "Name: LastName, dtype: object"
      ]
     },
     "execution_count": 44,
     "metadata": {},
     "output_type": "execute_result"
    }
   ],
   "source": [
    "passenger_data.LastName.describe()"
   ]
  },
  {
   "cell_type": "markdown",
   "id": "618c95b6",
   "metadata": {},
   "source": [
    "### Ticket statistics"
   ]
  },
  {
   "cell_type": "code",
   "execution_count": 45,
   "id": "b2e12f56",
   "metadata": {},
   "outputs": [
    {
     "data": {
      "text/plain": [
       "count     95377\n",
       "unique    75331\n",
       "top        A/5 \n",
       "freq        602\n",
       "Name: Ticket, dtype: object"
      ]
     },
     "execution_count": 45,
     "metadata": {},
     "output_type": "execute_result"
    }
   ],
   "source": [
    "passenger_data.Ticket.describe()"
   ]
  },
  {
   "cell_type": "markdown",
   "id": "1f4f75ce",
   "metadata": {},
   "source": [
    "### Cabin statistics"
   ]
  },
  {
   "cell_type": "code",
   "execution_count": 46,
   "id": "0ec2d1e8",
   "metadata": {},
   "outputs": [
    {
     "data": {
      "text/plain": [
       "count      32134\n",
       "unique     26992\n",
       "top       C19828\n",
       "freq           6\n",
       "Name: Cabin, dtype: object"
      ]
     },
     "execution_count": 46,
     "metadata": {},
     "output_type": "execute_result"
    }
   ],
   "source": [
    "passenger_data.Cabin.describe()"
   ]
  },
  {
   "cell_type": "markdown",
   "id": "5408eca5",
   "metadata": {},
   "source": [
    "# Data exploration"
   ]
  },
  {
   "cell_type": "code",
   "execution_count": null,
   "id": "2417286d",
   "metadata": {},
   "outputs": [],
   "source": []
  },
  {
   "cell_type": "markdown",
   "id": "034945c8",
   "metadata": {},
   "source": [
    "# Summary"
   ]
  },
  {
   "cell_type": "code",
   "execution_count": null,
   "id": "72e3fb13",
   "metadata": {},
   "outputs": [],
   "source": []
  }
 ],
 "metadata": {
  "kernelspec": {
   "display_name": "Python 3 (ipykernel)",
   "language": "python",
   "name": "python3"
  },
  "language_info": {
   "codemirror_mode": {
    "name": "ipython",
    "version": 3
   },
   "file_extension": ".py",
   "mimetype": "text/x-python",
   "name": "python",
   "nbconvert_exporter": "python",
   "pygments_lexer": "ipython3",
   "version": "3.9.7"
  },
  "toc": {
   "base_numbering": 1,
   "nav_menu": {},
   "number_sections": true,
   "sideBar": true,
   "skip_h1_title": false,
   "title_cell": "Table of Contents",
   "title_sidebar": "Contents",
   "toc_cell": false,
   "toc_position": {},
   "toc_section_display": true,
   "toc_window_display": false
  }
 },
 "nbformat": 4,
 "nbformat_minor": 5
}
