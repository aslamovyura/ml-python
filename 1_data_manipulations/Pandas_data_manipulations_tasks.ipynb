{
 "cells": [
  {
   "cell_type": "markdown",
   "id": "6d6010da",
   "metadata": {},
   "source": [
    "# How to complete this assignment\n",
    "First, download [this Kaggle dataset](https://www.kaggle.com/hugomathien/soccer) and extract *sqlite* database. You may need to register at https://www.kaggle.com/ beforehand. Then complete 15 graded tasks below, the score is given in brackets. Finally submit the resulting `.ipynb` file to rs-app Auto-test.\n",
    "\n",
    "- Do not delete or rename the variables given before the inscription `#your code here`, they are needed for the correct verification.\n",
    "- Do not change the code in the last Notebook cell, it is required for the server check.\n",
    "- Your Notebook must run completely without errors to be graded! Please check everything before submission by going *Cell -> Run All*"
   ]
  },
  {
   "cell_type": "markdown",
   "id": "0dbd5f9a",
   "metadata": {},
   "source": [
    "## Some important notes\n",
    "- If you need to **calculate the number of \"something\"** that means we expect you to assign an Integer to the given variable\n",
    "- If you need to **make a list of \"something\"** we expect you to assign a Python list with appropriate values to the given variable\n",
    "- If you need to find a **specifiс player, day of the week, team, etc.** we expect you to assign a String with the full name of the entity to the given variable (`player_name`, day of week full name, `team_name`, etc.)"
   ]
  },
  {
   "cell_type": "code",
   "execution_count": 791,
   "id": "f52b1bac",
   "metadata": {},
   "outputs": [],
   "source": [
    "import sqlite3\n",
    "import pandas as pd\n",
    "import os\n",
    "\n",
    "pd.set_option('display.max_column', None)"
   ]
  },
  {
   "cell_type": "code",
   "execution_count": 792,
   "id": "8ebe6afd",
   "metadata": {},
   "outputs": [],
   "source": [
    "# Leave that code unchanged, it is required for the server check!\n",
    "db = sqlite3.connect(os.environ.get(\"DB_PATH\") or 'database.sqlite')"
   ]
  },
  {
   "cell_type": "code",
   "execution_count": 793,
   "id": "9860d0d0",
   "metadata": {},
   "outputs": [],
   "source": [
    "# You may load the data from SQL table directly to the Pandas dataframe as\n",
    "player_data = pd.read_sql(\"SELECT * FROM Player;\", db)"
   ]
  },
  {
   "cell_type": "code",
   "execution_count": 794,
   "id": "7e69a7af",
   "metadata": {},
   "outputs": [
    {
     "data": {
      "text/html": [
       "<div>\n",
       "<style scoped>\n",
       "    .dataframe tbody tr th:only-of-type {\n",
       "        vertical-align: middle;\n",
       "    }\n",
       "\n",
       "    .dataframe tbody tr th {\n",
       "        vertical-align: top;\n",
       "    }\n",
       "\n",
       "    .dataframe thead th {\n",
       "        text-align: right;\n",
       "    }\n",
       "</style>\n",
       "<table border=\"1\" class=\"dataframe\">\n",
       "  <thead>\n",
       "    <tr style=\"text-align: right;\">\n",
       "      <th></th>\n",
       "      <th>id</th>\n",
       "      <th>player_api_id</th>\n",
       "      <th>player_name</th>\n",
       "      <th>player_fifa_api_id</th>\n",
       "      <th>birthday</th>\n",
       "      <th>height</th>\n",
       "      <th>weight</th>\n",
       "    </tr>\n",
       "  </thead>\n",
       "  <tbody>\n",
       "    <tr>\n",
       "      <th>0</th>\n",
       "      <td>1</td>\n",
       "      <td>505942</td>\n",
       "      <td>Aaron Appindangoye</td>\n",
       "      <td>218353</td>\n",
       "      <td>1992-02-29 00:00:00</td>\n",
       "      <td>182.88</td>\n",
       "      <td>187</td>\n",
       "    </tr>\n",
       "    <tr>\n",
       "      <th>1</th>\n",
       "      <td>2</td>\n",
       "      <td>155782</td>\n",
       "      <td>Aaron Cresswell</td>\n",
       "      <td>189615</td>\n",
       "      <td>1989-12-15 00:00:00</td>\n",
       "      <td>170.18</td>\n",
       "      <td>146</td>\n",
       "    </tr>\n",
       "    <tr>\n",
       "      <th>2</th>\n",
       "      <td>3</td>\n",
       "      <td>162549</td>\n",
       "      <td>Aaron Doran</td>\n",
       "      <td>186170</td>\n",
       "      <td>1991-05-13 00:00:00</td>\n",
       "      <td>170.18</td>\n",
       "      <td>163</td>\n",
       "    </tr>\n",
       "    <tr>\n",
       "      <th>3</th>\n",
       "      <td>4</td>\n",
       "      <td>30572</td>\n",
       "      <td>Aaron Galindo</td>\n",
       "      <td>140161</td>\n",
       "      <td>1982-05-08 00:00:00</td>\n",
       "      <td>182.88</td>\n",
       "      <td>198</td>\n",
       "    </tr>\n",
       "    <tr>\n",
       "      <th>4</th>\n",
       "      <td>5</td>\n",
       "      <td>23780</td>\n",
       "      <td>Aaron Hughes</td>\n",
       "      <td>17725</td>\n",
       "      <td>1979-11-08 00:00:00</td>\n",
       "      <td>182.88</td>\n",
       "      <td>154</td>\n",
       "    </tr>\n",
       "  </tbody>\n",
       "</table>\n",
       "</div>"
      ],
      "text/plain": [
       "   id  player_api_id         player_name  player_fifa_api_id  \\\n",
       "0   1         505942  Aaron Appindangoye              218353   \n",
       "1   2         155782     Aaron Cresswell              189615   \n",
       "2   3         162549         Aaron Doran              186170   \n",
       "3   4          30572       Aaron Galindo              140161   \n",
       "4   5          23780        Aaron Hughes               17725   \n",
       "\n",
       "              birthday  height  weight  \n",
       "0  1992-02-29 00:00:00  182.88     187  \n",
       "1  1989-12-15 00:00:00  170.18     146  \n",
       "2  1991-05-13 00:00:00  170.18     163  \n",
       "3  1982-05-08 00:00:00  182.88     198  \n",
       "4  1979-11-08 00:00:00  182.88     154  "
      ]
     },
     "execution_count": 794,
     "metadata": {},
     "output_type": "execute_result"
    }
   ],
   "source": [
    "player_data.head()"
   ]
  },
  {
   "cell_type": "markdown",
   "id": "f8b23f3a",
   "metadata": {},
   "source": [
    "**Task 1 (0.25 point).** Calculate the number of players with a height between 180 and 190 inclusive"
   ]
  },
  {
   "cell_type": "code",
   "execution_count": 795,
   "id": "7cd6f780",
   "metadata": {},
   "outputs": [
    {
     "data": {
      "text/plain": [
       "5925"
      ]
     },
     "execution_count": 795,
     "metadata": {},
     "output_type": "execute_result"
    }
   ],
   "source": [
    "players_180_190 = int(player_data.loc[(player_data.height >= 180) & \\\n",
    "                                  (player_data.height <= 190),'id'].count())\n",
    "players_180_190"
   ]
  },
  {
   "cell_type": "code",
   "execution_count": 796,
   "id": "9d058065",
   "metadata": {},
   "outputs": [],
   "source": [
    "assert(isinstance(players_180_190, int))"
   ]
  },
  {
   "cell_type": "markdown",
   "id": "5a39f3bc",
   "metadata": {},
   "source": [
    "**Task 2 (0.25 point).** Calculate the number of players born in 1980. <br>\n",
    "**Hint:** you may want to cast your 'birthday' column to DateTime type by [pandas.to_datetime](https://pandas.pydata.org/docs/reference/api/pandas.to_datetime.html)"
   ]
  },
  {
   "cell_type": "code",
   "execution_count": 797,
   "id": "ff21f7a2",
   "metadata": {},
   "outputs": [
    {
     "data": {
      "text/plain": [
       "434"
      ]
     },
     "execution_count": 797,
     "metadata": {},
     "output_type": "execute_result"
    }
   ],
   "source": [
    "from datetime import datetime\n",
    "players_1980 = int(player_data.loc[(pd.to_datetime(player_data.birthday) >= datetime(1980,1,1)) & \\\n",
    "                                   (pd.to_datetime(player_data.birthday) < datetime(1981,1,1)), 'id'].count())\n",
    "players_1980"
   ]
  },
  {
   "cell_type": "code",
   "execution_count": 798,
   "id": "e53cc066",
   "metadata": {},
   "outputs": [],
   "source": [
    "assert(isinstance(players_1980, int))"
   ]
  },
  {
   "cell_type": "markdown",
   "id": "70d1dea0",
   "metadata": {},
   "source": [
    "**Task 3 (0.25 point).** Make a list of the top 10 players with the highest weight sorted in descending order. If there are several players with the same weight put them in the lexicographic order by name."
   ]
  },
  {
   "cell_type": "code",
   "execution_count": 799,
   "id": "b0dbdaf5",
   "metadata": {},
   "outputs": [
    {
     "data": {
      "text/plain": [
       "['Kristof van Hout',\n",
       " 'Tim Wiese',\n",
       " 'Jeroen Verhoeven',\n",
       " 'Ishmael Miller',\n",
       " 'Cassio',\n",
       " 'Christopher Samba',\n",
       " 'Lars Unnerstall',\n",
       " 'Marcus Hahnemann',\n",
       " 'Abdoulaye Faye',\n",
       " 'Enoch Showunmi']"
      ]
     },
     "execution_count": 799,
     "metadata": {},
     "output_type": "execute_result"
    }
   ],
   "source": [
    "highest_players = list(player_data.sort_values(by=['weight','player_name'], ascending=[False,True]).iloc[:10].player_name)\n",
    "highest_players"
   ]
  },
  {
   "cell_type": "code",
   "execution_count": 800,
   "id": "40dabe0d",
   "metadata": {},
   "outputs": [],
   "source": [
    "assert(len(highest_players) == 10)\n",
    "assert(isinstance(highest_players, list))\n",
    "for i in range(10):\n",
    "    assert(isinstance(highest_players[i], str))"
   ]
  },
  {
   "cell_type": "markdown",
   "id": "ff30607f",
   "metadata": {},
   "source": [
    "**Task 4 (0.5 point).** Make a list of tuples containing years along with the number of players born in that year from 1980 up to 1990. <br>\n",
    "**Structure example**: [(1980, 123), (1981, 140) ..., (1990, 83)] -> There were born 123 players in 1980, there were born 140 players in 1981 and etc."
   ]
  },
  {
   "cell_type": "code",
   "execution_count": 801,
   "id": "9b609f1c",
   "metadata": {},
   "outputs": [
    {
     "data": {
      "text/plain": [
       "[(1980, 434),\n",
       " (1981, 475),\n",
       " (1982, 487),\n",
       " (1983, 541),\n",
       " (1984, 607),\n",
       " (1985, 593),\n",
       " (1986, 710),\n",
       " (1987, 722),\n",
       " (1988, 802),\n",
       " (1989, 723),\n",
       " (1990, 696)]"
      ]
     },
     "execution_count": 801,
     "metadata": {},
     "output_type": "execute_result"
    }
   ],
   "source": [
    "def birthday_to_year(row):\n",
    "    row.birthday = int((pd.to_datetime(row.birthday)).year)\n",
    "    return row\n",
    "\n",
    "name_year = player_data.loc[:, ['player_name', 'birthday']].copy()\n",
    "name_year.apply(birthday_to_year, axis='columns')\n",
    "name_year = name_year.rename(columns = {'birthday': 'year', 'player_name':'name'})\n",
    "name_year = name_year.loc[(name_year.year >= 1980) & (name_year.year <= 1990)]\n",
    "stats = name_year.groupby('year').year.count()\n",
    "\n",
    "years_born_players = list(zip(stats.index,stats))\n",
    "years_born_players"
   ]
  },
  {
   "cell_type": "code",
   "execution_count": 802,
   "id": "64cbf754",
   "metadata": {},
   "outputs": [],
   "source": [
    "assert(len(years_born_players) == 11)\n",
    "assert(isinstance(years_born_players, list))\n",
    "for i in range(10):\n",
    "    assert(isinstance(years_born_players[i], tuple))\n",
    "    assert(isinstance(years_born_players[i][0], int))\n",
    "    assert(isinstance(years_born_players[i][1], int))"
   ]
  },
  {
   "cell_type": "markdown",
   "id": "33cbd931",
   "metadata": {},
   "source": [
    "**Task 5 (0.5 point).** Calculate the mean and the standard deviation of the players' **height** with the name **Adriano**. <br>\n",
    "**Note:** Name is represented by the first part of `player_name`."
   ]
  },
  {
   "cell_type": "code",
   "execution_count": 803,
   "id": "614fac31",
   "metadata": {},
   "outputs": [
    {
     "data": {
      "text/plain": [
       "(182.11800000000002, 5.361479480723788)"
      ]
     },
     "execution_count": 803,
     "metadata": {},
     "output_type": "execute_result"
    }
   ],
   "source": [
    "name_height = player_data.loc[:, ['player_name','height']].copy()\n",
    "name_height.player_name = name_height.player_name.apply(lambda n : n.split()[0])\n",
    "adriano_mean = name_height.loc[name_height.player_name == 'Adriano'].height.mean()\n",
    "adriano_std = name_height.loc[name_height.player_name == 'Adriano'].height.std()\n",
    "adriano_mean,adriano_std"
   ]
  },
  {
   "cell_type": "code",
   "execution_count": 804,
   "id": "f508c49f",
   "metadata": {},
   "outputs": [],
   "source": [
    "assert(isinstance(adriano_mean, float))\n",
    "assert(isinstance(adriano_std, float))"
   ]
  },
  {
   "cell_type": "markdown",
   "id": "8a361dfd",
   "metadata": {},
   "source": [
    "**Task 6 (0.75 point).** How many players were born on each day of the week? Find the day of the week with the minimum number of players born."
   ]
  },
  {
   "cell_type": "code",
   "execution_count": 805,
   "id": "c140be4f",
   "metadata": {},
   "outputs": [
    {
     "data": {
      "text/plain": [
       "'Sunday'"
      ]
     },
     "execution_count": 805,
     "metadata": {},
     "output_type": "execute_result"
    }
   ],
   "source": [
    "name_datetime = player_data.loc[:, ['player_name','birthday']].copy()\n",
    "name_datetime['birthday'] = pd.to_datetime(name_datetime['birthday'])\n",
    "name_datetime['birthday'] = name_datetime['birthday'].dt.day_name()\n",
    "name_datetime = name_datetime.rename(columns = {'birthday':'day'})\n",
    "\n",
    "dow_with_min_players_born = name_datetime.groupby('day').day.count().sort_values().index[0]\n",
    "dow_with_min_players_born"
   ]
  },
  {
   "cell_type": "code",
   "execution_count": 806,
   "id": "fc041623",
   "metadata": {},
   "outputs": [],
   "source": [
    "assert(isinstance(dow_with_min_players_born, str))"
   ]
  },
  {
   "cell_type": "markdown",
   "id": "dc7428be",
   "metadata": {},
   "source": [
    "**Task 7 (0.75 point).** Find a league with the most matches in total. If there are several leagues with the same amount of matches, take the first in the lexical order."
   ]
  },
  {
   "cell_type": "code",
   "execution_count": 807,
   "id": "ff3113ac",
   "metadata": {},
   "outputs": [
    {
     "data": {
      "text/plain": [
       "'England Premier League'"
      ]
     },
     "execution_count": 807,
     "metadata": {},
     "output_type": "execute_result"
    }
   ],
   "source": [
    "match_data = pd.read_sql(\"SELECT * FROM Match;\", db)\n",
    "league_data = pd.read_sql(\"SELECT * FROM League;\", db)\n",
    "\n",
    "left = match_data.loc[:, ['id','league_id']]\n",
    "left = left.set_index('league_id')\n",
    "\n",
    "right = league_data.loc[:, ['id','name']]\n",
    "right = right.set_index('id')\n",
    "\n",
    "match_league_data = left.join(right)\n",
    "\n",
    "stats = match_league_data.groupby('name').id.count().sort_values(ascending=False)\n",
    "league_most_matches = stats.loc[stats >= stats[0]].sort_index().index[0]\n",
    "league_most_matches"
   ]
  },
  {
   "cell_type": "code",
   "execution_count": 808,
   "id": "390a265b",
   "metadata": {},
   "outputs": [],
   "source": [
    "assert(isinstance(league_most_matches, str))"
   ]
  },
  {
   "cell_type": "markdown",
   "id": "97199b7d",
   "metadata": {},
   "source": [
    "**Task 8 (1.25 point).** Find a player who participated in the largest number of matches during the whole match history. Assign a `player_name` to the given variable"
   ]
  },
  {
   "cell_type": "code",
   "execution_count": 858,
   "id": "ec31bc69",
   "metadata": {},
   "outputs": [
    {
     "data": {
      "text/plain": [
       "'Steve Mandanda'"
      ]
     },
     "execution_count": 858,
     "metadata": {},
     "output_type": "execute_result"
    }
   ],
   "source": [
    "key_field = 'player_api_id';\n",
    "player_names = player_data.loc[:, [key_field, 'player_name']]\n",
    "player_names[key_field] = player_names[key_field].astype('int64')\n",
    "player_names = player_names.set_index(key_field);\n",
    "\n",
    "\n",
    "def to_player_data(match_data, field, player_names):\n",
    "    h1_data = match_data[pd.notnull(match_data[str(field)])].loc[:, [str(field), 'match_api_id']].copy();\n",
    "    h1_data[str(field)] = h1_data[str(field)].astype('int64')\n",
    "    h1_data = h1_data.set_index(str(field))\n",
    "    joined = h1_data.join(player_names)\n",
    "    return joined\n",
    "\n",
    "merged = pd.concat([\n",
    "    to_player_data(match_data, 'home_player_1', player_names),\n",
    "    to_player_data(match_data, 'home_player_2', player_names),\n",
    "    to_player_data(match_data, 'home_player_3', player_names),\n",
    "    to_player_data(match_data, 'home_player_4', player_names),\n",
    "    to_player_data(match_data, 'home_player_5', player_names),\n",
    "    to_player_data(match_data, 'home_player_6', player_names),\n",
    "    to_player_data(match_data, 'home_player_7', player_names),\n",
    "    to_player_data(match_data, 'home_player_8', player_names),\n",
    "    to_player_data(match_data, 'home_player_9', player_names),\n",
    "    to_player_data(match_data, 'home_player_10', player_names),\n",
    "    to_player_data(match_data, 'home_player_11', player_names),\n",
    "    to_player_data(match_data, 'away_player_1', player_names),\n",
    "    to_player_data(match_data, 'away_player_2', player_names),\n",
    "    to_player_data(match_data, 'away_player_3', player_names),\n",
    "    to_player_data(match_data, 'away_player_4', player_names),\n",
    "    to_player_data(match_data, 'away_player_5', player_names),\n",
    "    to_player_data(match_data, 'away_player_6', player_names),\n",
    "    to_player_data(match_data, 'away_player_7', player_names),\n",
    "    to_player_data(match_data, 'away_player_8', player_names),\n",
    "    to_player_data(match_data, 'away_player_9', player_names),\n",
    "    to_player_data(match_data, 'away_player_10', player_names),\n",
    "    to_player_data(match_data, 'away_player_11', player_names),\n",
    "]).drop_duplicates()\n",
    "\n",
    "player_id = merged.index.value_counts().index[0]\n",
    "\n",
    "max_matches_player = list(player_data.loc[player_data.player_api_id==player_id].player_name)[0]\n",
    "max_matches_player"
   ]
  },
  {
   "cell_type": "code",
   "execution_count": 810,
   "id": "00ec2e89",
   "metadata": {},
   "outputs": [],
   "source": [
    "assert(isinstance(max_matches_player, str))"
   ]
  },
  {
   "cell_type": "markdown",
   "id": "dbc68bfe",
   "metadata": {},
   "source": [
    "**Task 9 (1.5 point).** List top-5 tuples of most correlated **player's characteristics** in the descending order of the absolute [Pearson's coefficient](https://en.wikipedia.org/wiki/Pearson_correlation_coefficient) value.\n",
    "\n",
    "**Note 1:** Players characteristics are all the columns in `Player_Attributes` table except `[id, player_fifa_api_id, player_api_id, date, preferred_foot, attacking_work_rate, defensive_work_rate]`). <br>\n",
    "**Note 2:** Exclude duplicated pairs from the list. E.g. ('gk_handling', 'gk_reflexes') and ('gk_reflexes', 'gk_handling') are duplicates, leave just one of them in the resulting list.\n",
    "\n",
    "**Hint:** You may use [dataframe.corr()](https://pandas.pydata.org/docs/reference/api/pandas.DataFrame.corr.html) for calculating pairwise Pearson correlation."
   ]
  },
  {
   "cell_type": "code",
   "execution_count": 811,
   "id": "47c1412e",
   "metadata": {},
   "outputs": [
    {
     "data": {
      "text/plain": [
       "[('gk_reflexes', 'gk_positioning'),\n",
       " ('gk_reflexes', 'gk_handling'),\n",
       " ('gk_handling', 'gk_positioning'),\n",
       " ('sliding_tackle', 'standing_tackle'),\n",
       " ('standing_tackle', 'marking')]"
      ]
     },
     "execution_count": 811,
     "metadata": {},
     "output_type": "execute_result"
    }
   ],
   "source": [
    "attributes_data = pd.read_sql(\"SELECT * FROM Player_Attributes;\", db)\n",
    "columns = [column for column in attributes_data.columns if column not in ['id', 'player_fifa_api_id', 'player_api_id', 'date', 'preferred_foot', 'attacking_work_rate', 'defensive_work_rate']]\n",
    "att_data = attributes_data.loc[:, columns]\n",
    "corr_matrix = att_data.corr(method='pearson').abs()\n",
    "\n",
    "stats_list = corr_matrix.unstack()\n",
    "pairs = list(stats_list.sort_values(kind=\"quicksort\", ascending=False).index)\n",
    "\n",
    "\n",
    "def filter_pairs(pairs):\n",
    "    unique_pairs = [pair for pair in pairs if pair[0] != pair[1]]\n",
    "\n",
    "    CNT_MAX = 5\n",
    "    top_pairs = []\n",
    "    top_reversed_pairs = []\n",
    "    for pair in unique_pairs:\n",
    "        if len(top_pairs) == 0:\n",
    "            top_pairs = [pair]\n",
    "            top_reversed_pairs = [(pair[1], pair[0])]\n",
    "\n",
    "        if (pair not in top_pairs) and (pair not in top_reversed_pairs):\n",
    "            top_pairs.append(pair)\n",
    "            top_reversed_pairs.append((pair[1], pair[0]))\n",
    "\n",
    "        if len(top_pairs) == CNT_MAX:\n",
    "            return top_pairs\n",
    "\n",
    "    return top_pairs\n",
    "\n",
    "\n",
    "top_correlated_features = filter_pairs(pairs)\n",
    "top_correlated_features"
   ]
  },
  {
   "cell_type": "code",
   "execution_count": 812,
   "id": "67acd6bf",
   "metadata": {},
   "outputs": [],
   "source": [
    "assert(len(top_correlated_features) == 5)\n",
    "assert(isinstance(top_correlated_features, list))\n",
    "for i in range(5):\n",
    "    assert(isinstance(top_correlated_features[i], tuple))\n",
    "    assert(isinstance(top_correlated_features[i][0], str))\n",
    "    assert(isinstance(top_correlated_features[i][1], str))"
   ]
  },
  {
   "cell_type": "markdown",
   "id": "7d3d8fd3",
   "metadata": {},
   "source": [
    "**Task 10 (2 points).** Find top-5 most similar players to **Neymar** whose names are given. The similarity is measured as [Euclidean distance](https://en.wikipedia.org/wiki/Euclidean_distance) between vectors of players' characteristics (described in the task above). Put their names in a vector in ascending order by Euclidean distance and sorted by `player_name` if the distance is the same<br>\n",
    "**Note 1:** There are many records for some players in the `Player_Attributes` table. You need to take the freshest data (characteristics with the most recent `date`). <br>\n",
    "**Note 2:** Use pure values of the characteristics even if you are aware of such preprocessing technics as normalization. <br>\n",
    "**Note 3:** Please avoid using any built-in methods for calculating the Euclidean distance between vectors, think about implementing your own."
   ]
  },
  {
   "cell_type": "code",
   "execution_count": 813,
   "id": "fac5a571",
   "metadata": {},
   "outputs": [
    {
     "data": {
      "text/plain": [
       "['Paulo Dybala',\n",
       " 'Eden Hazard',\n",
       " 'Giovani dos Santos',\n",
       " 'Arjen Robben',\n",
       " 'Lionel Messi']"
      ]
     },
     "execution_count": 813,
     "metadata": {},
     "output_type": "execute_result"
    }
   ],
   "source": [
    "attributes_data = pd.read_sql(\"SELECT * FROM Player_Attributes;\", db)\n",
    "\n",
    "import math\n",
    "def distance (list1, list2):\n",
    "    return math.sqrt(sum([(s - m)**2 for s, m in zip(list1, list2)]))\n",
    "\n",
    "player_attributes_data = attributes_data.groupby('player_api_id').date.agg([max])\n",
    "player_attributes_data = player_attributes_data.rename(columns={'max':'max_date'})\n",
    "\n",
    "attributes_last_data = attributes_data.copy()\n",
    "attributes_last_data = attributes_last_data.set_index('player_api_id')\n",
    "\n",
    "last_attributes_data = attributes_last_data.join(player_attributes_data)\n",
    "last_attributes_data = last_attributes_data[last_attributes_data.date == last_attributes_data.max_date]\n",
    "\n",
    "columns = [column for column in attributes_data.columns if column not in ['id', 'player_fifa_api_id', 'player_api_id', 'date', 'preferred_foot', 'attacking_work_rate', 'defensive_work_rate']]\n",
    "\n",
    "attributes = last_attributes_data.loc[:, columns]\n",
    "\n",
    "neymar_id = int(player_data[player_data.player_name == 'Neymar'].player_api_id)\n",
    "neymar_attributes = attributes.loc[attributes.index == neymar_id]\n",
    "neymar_list = neymar_attributes.values.tolist()[0]\n",
    "\n",
    "\n",
    "attributes['dist'] = attributes.apply(lambda p: distance(p.values.tolist(), neymar_list) , axis='columns')\n",
    "\n",
    "players = player_data.loc[:, ['player_api_id', 'player_name']]\n",
    "players = players.set_index('player_api_id')\n",
    "\n",
    "stats = attributes.join(players)\n",
    "stats = stats.sort_values(by=['dist', 'player_name'], ascending=[True,True]).loc[:,['player_name','dist']]\n",
    "stats = stats[stats.player_name != 'Neymar']\n",
    "neymar_similarities = list(stats.iloc[:5].player_name)\n",
    "neymar_similarities\n",
    "\n",
    "# neymar_similarities = ['','','','','']"
   ]
  },
  {
   "cell_type": "code",
   "execution_count": 814,
   "id": "ddb1876a",
   "metadata": {},
   "outputs": [],
   "source": [
    "assert(len(neymar_similarities) == 5)\n",
    "assert(isinstance(neymar_similarities, list))\n",
    "for i in range(5):\n",
    "    assert(isinstance(neymar_similarities[i], str))"
   ]
  },
  {
   "cell_type": "markdown",
   "id": "a3a7f878",
   "metadata": {},
   "source": [
    "**Task 11 (1 point).** Calculate the number of home matches played by the **Borussia Dortmund** team in **Germany 1. Bundesliga** in season **2008/2009**"
   ]
  },
  {
   "cell_type": "code",
   "execution_count": 815,
   "id": "bdf5a267",
   "metadata": {},
   "outputs": [
    {
     "data": {
      "text/plain": [
       "17"
      ]
     },
     "execution_count": 815,
     "metadata": {},
     "output_type": "execute_result"
    }
   ],
   "source": [
    "country_data = pd.read_sql(\"SELECT * FROM Country;\", db)\n",
    "team_data = pd.read_sql(\"SELECT * FROM Team;\", db)\n",
    "\n",
    "germany_id = int(country_data[country_data.name == 'Germany'].id)\n",
    "team_id = int(team_data[team_data.team_long_name == 'Borussia Dortmund'].team_api_id)\n",
    "\n",
    "\n",
    "home_matches = match_data.loc[(match_data.home_team_api_id == team_id) & \\\n",
    "                              (match_data.country_id == germany_id) & \\\n",
    "                              (match_data.season == '2008/2009')]\n",
    "\n",
    "borussia_bundesliga_2008_2009_matches = int(home_matches.match_api_id.count())\n",
    "borussia_bundesliga_2008_2009_matches"
   ]
  },
  {
   "cell_type": "code",
   "execution_count": 816,
   "id": "488fdd4c",
   "metadata": {},
   "outputs": [],
   "source": [
    "assert(isinstance(borussia_bundesliga_2008_2009_matches, int))"
   ]
  },
  {
   "cell_type": "markdown",
   "id": "69dca9a5",
   "metadata": {},
   "source": [
    "**Task 12 (1 point).** Find a team having the most matches (both home and away!) in the **Germany 1. Bundesliga** in **2008/2009** season. Return number of matches."
   ]
  },
  {
   "cell_type": "code",
   "execution_count": 817,
   "id": "9969ba5c",
   "metadata": {},
   "outputs": [
    {
     "data": {
      "text/plain": [
       "34"
      ]
     },
     "execution_count": 817,
     "metadata": {},
     "output_type": "execute_result"
    }
   ],
   "source": [
    "league_data = pd.read_sql(\"SELECT * FROM League;\", db)\n",
    "\n",
    "bundesliga_id = int(league_data[league_data.name == 'Germany 1. Bundesliga'].id)\n",
    "\n",
    "bundesliga_matches = match_data.loc[(match_data.league_id == bundesliga_id) & \\\n",
    "                                    (match_data.season == '2008/2009'), \n",
    "                                   ['id' ,'home_team_api_id', 'away_team_api_id', ]]\n",
    "\n",
    "home_matches = bundesliga_matches.loc[:, ['id', 'home_team_api_id']]\n",
    "home_matches = home_matches.rename(columns={'home_team_api_id': 'team_api_id'})\n",
    "home_matches.team_api_id = home_matches.team_api_id.astype('int64')\n",
    "\n",
    "away_matches = bundesliga_matches.loc[:, ['id', 'away_team_api_id']]\n",
    "away_matches = away_matches.rename(columns={'away_team_api_id': 'team_api_id'})\n",
    "away_matches.team_api_id = away_matches.team_api_id.astype('int64')\n",
    "\n",
    "matches = pd.concat([home_matches, away_matches])\n",
    "\n",
    "stats = matches.groupby('team_api_id').team_api_id.count().sort_values(ascending=False)\n",
    "team_most_matches_bundesliga_2008_2009 = int(stats.iloc[0])\n",
    "team_most_matches_bundesliga_2008_2009"
   ]
  },
  {
   "cell_type": "code",
   "execution_count": 818,
   "id": "ef3b8fa2",
   "metadata": {},
   "outputs": [],
   "source": [
    "assert(isinstance(team_most_matches_bundesliga_2008_2009, int))"
   ]
  },
  {
   "cell_type": "markdown",
   "id": "2f3c65aa",
   "metadata": {},
   "source": [
    "**Task 13 (1 point).** Count total number of **Arsenal** matches (both home and away!) in the **2015/2016** season which they have won. <br><br>\n",
    "**Note:** Winning a game means scoring **more** goals than an opponent."
   ]
  },
  {
   "cell_type": "code",
   "execution_count": 819,
   "id": "52456f34",
   "metadata": {},
   "outputs": [
    {
     "data": {
      "text/plain": [
       "20"
      ]
     },
     "execution_count": 819,
     "metadata": {},
     "output_type": "execute_result"
    }
   ],
   "source": [
    "arsenal_id = int(team_data[team_data.team_long_name == 'Arsenal'].team_api_id)\n",
    "\n",
    "home_matches = match_data.loc[(match_data.home_team_api_id == arsenal_id) & \\\n",
    "                                 (match_data.season == '2015/2016')]\n",
    "away_matches = match_data.loc[(match_data.away_team_api_id == arsenal_id) & \\\n",
    "                                 (match_data.season == '2015/2016')]\n",
    "\n",
    "won_home_matches = int(home_matches[home_matches.home_team_goal > home_matches.away_team_goal].id.count())\n",
    "won_away_matches = int(away_matches[away_matches.home_team_goal < away_matches.away_team_goal].id.count())\n",
    "\n",
    "arsenal_won_matches_2015_2016 = won_home_matches + won_away_matches\n",
    "arsenal_won_matches_2015_2016"
   ]
  },
  {
   "cell_type": "code",
   "execution_count": 820,
   "id": "214d9689",
   "metadata": {},
   "outputs": [],
   "source": [
    "assert(isinstance(arsenal_won_matches_2015_2016, int))"
   ]
  },
  {
   "cell_type": "markdown",
   "id": "d70d5b23",
   "metadata": {},
   "source": [
    "**Task 14 (2 points).** Find a team with the highest win rate in the **2015/2016** season. Win rate means won matches / all matches. If there are several teams with the highest win rate return the first by name in lexical order"
   ]
  },
  {
   "cell_type": "code",
   "execution_count": 821,
   "id": "b1aa7db0",
   "metadata": {},
   "outputs": [
    {
     "data": {
      "text/plain": [
       "'SL Benfica'"
      ]
     },
     "execution_count": 821,
     "metadata": {},
     "output_type": "execute_result"
    }
   ],
   "source": [
    "teams = team_data.loc[:, ['team_api_id', 'team_long_name']].set_index('team_api_id')\n",
    "\n",
    "matches = match_data.loc[(match_data.season == '2015/2016'), ['match_api_id', 'home_team_api_id', 'home_team_goal', 'away_team_api_id', 'away_team_goal']]\n",
    "matches.match_api_id = matches.match_api_id.astype('int64')\n",
    "\n",
    "home_matches = matches.set_index('home_team_api_id').loc[:,['match_api_id', 'home_team_goal', 'away_team_goal']]\n",
    "away_matches = matches.set_index('away_team_api_id').loc[:,['match_api_id', 'home_team_goal', 'away_team_goal']]\n",
    "\n",
    "team_home_matches = home_matches.join(teams)\n",
    "team_home_matches['success'] = team_home_matches.home_team_goal > team_home_matches.away_team_goal\n",
    "team_home_matches.loc[(team_home_matches.index == arsenal_id) & \\\n",
    "                      (team_home_matches.success == True)].match_api_id.count()\n",
    "\n",
    "team_away_matches = away_matches.join(teams)\n",
    "team_away_matches['success'] = team_away_matches.home_team_goal < team_away_matches.away_team_goal\n",
    "team_matches = pd.concat([team_home_matches, team_away_matches])\n",
    "\n",
    "team_total_matches_s = team_matches.groupby('team_long_name').team_long_name.count().sort_values(ascending=False)\n",
    "team_total_matches = pd.DataFrame({'name':team_total_matches_s.index, 'total':team_total_matches_s.values})\n",
    "team_total_matches = team_total_matches.set_index('name')\n",
    "\n",
    "team_won_matches_s = team_matches[team_matches.success == True].groupby('team_long_name').team_long_name.count().sort_values(ascending=False)\n",
    "team_won_matches = pd.DataFrame({'name':team_won_matches_s.index, 'won':team_won_matches_s.values})\n",
    "team_won_matches = team_won_matches.set_index('name')\n",
    "\n",
    "result_table = team_won_matches.join(team_total_matches)\n",
    "result_table['factor'] = result_table.won/result_table.total\n",
    "result_table\n",
    "\n",
    "stats = result_table.sort_values(by=['factor', 'name'], ascending=[False, True])\n",
    "stats[stats.index=='Arsenal']\n",
    "\n",
    "team_highest_winrate_2015_2016 = result_table.sort_values(by=['factor', 'name'], ascending=[False, True]).index[0]\n",
    "team_highest_winrate_2015_2016"
   ]
  },
  {
   "cell_type": "code",
   "execution_count": 822,
   "id": "b4cc8e46",
   "metadata": {},
   "outputs": [],
   "source": [
    "assert(isinstance(team_highest_winrate_2015_2016, str))"
   ]
  },
  {
   "cell_type": "markdown",
   "id": "f7f3b4f5",
   "metadata": {},
   "source": [
    "**Task 15 (2 points).** Determine the team with the maximum days' gap between matches in **England Premier League 2010/2011 season**. Return number of days in that gap. <br>\n",
    "**Note**: a *gap* means the number of days between two consecutive matches of the same team."
   ]
  },
  {
   "cell_type": "code",
   "execution_count": 829,
   "id": "a4c33e5f",
   "metadata": {},
   "outputs": [
    {
     "data": {
      "text/plain": [
       "18"
      ]
     },
     "execution_count": 829,
     "metadata": {},
     "output_type": "execute_result"
    }
   ],
   "source": [
    "teams = team_data.loc[:, ['team_api_id', 'team_long_name']].set_index('team_api_id')\n",
    "league_id = int(league_data[league_data.name == 'England Premier League'].id)\n",
    "\n",
    "matches = match_data.loc[(match_data.season == '2010/2011') & (match_data.league_id == league_id),\n",
    "                          ['match_api_id', 'date', 'home_team_api_id', 'away_team_api_id']]\n",
    "matches.match_api_id = matches.match_api_id.astype('int64')\n",
    "\n",
    "home_matches = matches.set_index('home_team_api_id').loc[:,['match_api_id', 'date']]\n",
    "away_matches = matches.set_index('away_team_api_id').loc[:,['match_api_id', 'date']]\n",
    "\n",
    "team_home_matches = home_matches.join(teams)\n",
    "team_away_matches = away_matches.join(teams)\n",
    "team_matches = pd.concat([team_home_matches, team_away_matches])\n",
    "team_matches.date = pd.to_datetime(team_matches.date)\n",
    "\n",
    "league_teams = list(set(team_matches.team_long_name))\n",
    "\n",
    "gaps = []\n",
    "for team_name in league_teams:\n",
    "    dates = list(team_matches.loc[team_matches.team_long_name == team_name, 'date'].sort_values())\n",
    "    dates_prev = dates[:-2]\n",
    "    dates_next = dates[1:]\n",
    "    gap = [(n-p).days for p,n in zip(dates_prev,dates_next)]\n",
    "    gaps.append(max(gap))\n",
    "    \n",
    "team_gap = pd.DataFrame({'team':league_teams, 'gap':gaps})\n",
    "stats = team_gap.sort_values(by='gap', ascending=False)\n",
    "highest_gap_england_2010_2011 = int(stats.gap.max())\n",
    "highest_gap_england_2010_2011"
   ]
  },
  {
   "cell_type": "code",
   "execution_count": 826,
   "id": "5f7aa84e",
   "metadata": {},
   "outputs": [],
   "source": [
    "assert(isinstance(highest_gap_england_2010_2011, int))"
   ]
  },
  {
   "cell_type": "markdown",
   "id": "acecc77f",
   "metadata": {},
   "source": [
    "### Warning! Do not change anything in the area below"
   ]
  },
  {
   "cell_type": "code",
   "execution_count": 827,
   "id": "94c3b9be",
   "metadata": {},
   "outputs": [],
   "source": [
    "with open('student_answers.txt', 'w') as file:\n",
    "    file.write(f\"{players_180_190}\\n\")\n",
    "    file.write(f\"{players_1980}\\n\")\n",
    "    file.write(f\"{highest_players}\\n\")\n",
    "    file.write(f\"{years_born_players}\\n\")\n",
    "    file.write(f\"{round(adriano_mean, 3)} {round(adriano_std, 3)}\\n\")\n",
    "    file.write(f\"{dow_with_min_players_born}\\n\")\n",
    "    file.write(f\"{league_most_matches}\\n\")\n",
    "    file.write(f\"{max_matches_player}\\n\")\n",
    "    file.write(f\"{';'.join(['%s,%s' % tup for tup in top_correlated_features])};\\n\")\n",
    "    file.write(f\"{neymar_similarities}\\n\")\n",
    "    file.write(f\"{borussia_bundesliga_2008_2009_matches}\\n\")\n",
    "    file.write(f\"{team_most_matches_bundesliga_2008_2009}\\n\")\n",
    "    file.write(f\"{arsenal_won_matches_2015_2016}\\n\")\n",
    "    file.write(f\"{team_highest_winrate_2015_2016}\\n\")\n",
    "    file.write(f\"{highest_gap_england_2010_2011}\\n\")"
   ]
  },
  {
   "cell_type": "code",
   "execution_count": null,
   "id": "1f84a26c",
   "metadata": {},
   "outputs": [],
   "source": []
  }
 ],
 "metadata": {
  "kernelspec": {
   "display_name": "Python 3 (ipykernel)",
   "language": "python",
   "name": "python3"
  },
  "language_info": {
   "codemirror_mode": {
    "name": "ipython",
    "version": 3
   },
   "file_extension": ".py",
   "mimetype": "text/x-python",
   "name": "python",
   "nbconvert_exporter": "python",
   "pygments_lexer": "ipython3",
   "version": "3.9.7"
  }
 },
 "nbformat": 4,
 "nbformat_minor": 5
}
